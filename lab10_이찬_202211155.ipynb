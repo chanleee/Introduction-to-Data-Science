{
 "cells": [
  {
   "cell_type": "code",
   "execution_count": 1,
   "id": "1fe0c807",
   "metadata": {
    "tags": []
   },
   "outputs": [
    {
     "name": "stdout",
     "output_type": "stream",
     "text": [
      "Requirement already satisfied: pandas in /Users/ichan/opt/anaconda3/lib/python3.9/site-packages (1.4.2)\n",
      "Requirement already satisfied: python-dateutil>=2.8.1 in /Users/ichan/opt/anaconda3/lib/python3.9/site-packages (from pandas) (2.8.2)\n",
      "Requirement already satisfied: pytz>=2020.1 in /Users/ichan/opt/anaconda3/lib/python3.9/site-packages (from pandas) (2021.3)\n",
      "Requirement already satisfied: numpy>=1.18.5 in /Users/ichan/opt/anaconda3/lib/python3.9/site-packages (from pandas) (1.21.5)\n",
      "Requirement already satisfied: six>=1.5 in /Users/ichan/opt/anaconda3/lib/python3.9/site-packages (from python-dateutil>=2.8.1->pandas) (1.16.0)\n",
      "Requirement already satisfied: seaborn in /Users/ichan/opt/anaconda3/lib/python3.9/site-packages (0.11.2)\n",
      "Requirement already satisfied: matplotlib>=2.2 in /Users/ichan/opt/anaconda3/lib/python3.9/site-packages (from seaborn) (3.5.1)\n",
      "Requirement already satisfied: scipy>=1.0 in /Users/ichan/opt/anaconda3/lib/python3.9/site-packages (from seaborn) (1.7.3)\n",
      "Requirement already satisfied: numpy>=1.15 in /Users/ichan/opt/anaconda3/lib/python3.9/site-packages (from seaborn) (1.21.5)\n",
      "Requirement already satisfied: pandas>=0.23 in /Users/ichan/opt/anaconda3/lib/python3.9/site-packages (from seaborn) (1.4.2)\n",
      "Requirement already satisfied: pyparsing>=2.2.1 in /Users/ichan/opt/anaconda3/lib/python3.9/site-packages (from matplotlib>=2.2->seaborn) (3.0.4)\n",
      "Requirement already satisfied: python-dateutil>=2.7 in /Users/ichan/opt/anaconda3/lib/python3.9/site-packages (from matplotlib>=2.2->seaborn) (2.8.2)\n",
      "Requirement already satisfied: fonttools>=4.22.0 in /Users/ichan/opt/anaconda3/lib/python3.9/site-packages (from matplotlib>=2.2->seaborn) (4.25.0)\n",
      "Requirement already satisfied: packaging>=20.0 in /Users/ichan/opt/anaconda3/lib/python3.9/site-packages (from matplotlib>=2.2->seaborn) (21.3)\n",
      "Requirement already satisfied: pillow>=6.2.0 in /Users/ichan/opt/anaconda3/lib/python3.9/site-packages (from matplotlib>=2.2->seaborn) (9.0.1)\n",
      "Requirement already satisfied: kiwisolver>=1.0.1 in /Users/ichan/opt/anaconda3/lib/python3.9/site-packages (from matplotlib>=2.2->seaborn) (1.3.2)\n",
      "Requirement already satisfied: cycler>=0.10 in /Users/ichan/opt/anaconda3/lib/python3.9/site-packages (from matplotlib>=2.2->seaborn) (0.11.0)\n",
      "Requirement already satisfied: pytz>=2020.1 in /Users/ichan/opt/anaconda3/lib/python3.9/site-packages (from pandas>=0.23->seaborn) (2021.3)\n",
      "Requirement already satisfied: six>=1.5 in /Users/ichan/opt/anaconda3/lib/python3.9/site-packages (from python-dateutil>=2.7->matplotlib>=2.2->seaborn) (1.16.0)\n"
     ]
    }
   ],
   "source": [
    "# Install required module (if not exists)\n",
    "import sys\n",
    "!{sys.executable} -m pip install pandas\n",
    "!{sys.executable} -m pip install seaborn"
   ]
  },
  {
   "cell_type": "code",
   "execution_count": 2,
   "id": "e877a601",
   "metadata": {
    "tags": []
   },
   "outputs": [],
   "source": [
    "# Import required libraries in this lab\n",
    "import pandas as pd\n",
    "import numpy as np\n",
    "import matplotlib.pyplot as plt\n",
    "import seaborn as sns"
   ]
  },
  {
   "cell_type": "markdown",
   "id": "b0c10720",
   "metadata": {},
   "source": [
    "# **Datascience Lab 10**"
   ]
  },
  {
   "cell_type": "code",
   "execution_count": 3,
   "id": "d1621720-99fb-4b4f-89d9-17b0af654383",
   "metadata": {
    "tags": []
   },
   "outputs": [],
   "source": [
    "# Data preperation\n",
    "df_titanic = pd.read_csv('Titanic.csv', index_col=0) # load the csv file\n",
    "df_titanic = df_titanic[df_titanic['PClass'] != '*'] # clear the abnormal data from PClass\n",
    "df_titanic = df_titanic.dropna() # drop NA rows for cleaner data\n",
    "\n",
    "df_bluejay = pd.read_csv('blue_jays.csv', index_col=0) # load the csv file"
   ]
  },
  {
   "cell_type": "markdown",
   "id": "d5b4d981",
   "metadata": {
    "tags": []
   },
   "source": [
    "## Lab 10-1: Violin plot (1 point)\n",
    "\n",
    "For this assignment, you will be working with the `Titanic.csv` dataset already loaded into a DataFrame object called `df`. \n",
    "\n",
    "* You need to create a violin plot that displays the distribution of ages for men and women in each class of the Titanic passengers.\n",
    "* Split the violin plot by sex, use the `split` parameter.\n",
    "* Draw quartile lines inside each half of the plot using the `inner` parameter.\n",
    "* Change the bandwidth parameter `bw` for showing the distribtuion of the ages in more detail.\n",
    "* Finally, Limit the range of the plot, by removing the tails of the plot beyond the range of the data. (use `cut` parameter)\n",
    "\n",
    "On top of that, draw the title of the chart as `Titanic Passengers by Class and Sex`\n",
    "\n",
    "### Reference\n",
    "* https://seaborn.pydata.org/examples/grouped_violinplots.html\n",
    "* https://seaborn.pydata.org/generated/seaborn.violinplot.html#seaborn.violinplot"
   ]
  },
  {
   "cell_type": "code",
   "execution_count": 4,
   "id": "9e319c99-fd91-4d5a-90fc-6b18745f0974",
   "metadata": {
    "tags": []
   },
   "outputs": [
    {
     "data": {
      "text/html": [
       "<div>\n",
       "<style scoped>\n",
       "    .dataframe tbody tr th:only-of-type {\n",
       "        vertical-align: middle;\n",
       "    }\n",
       "\n",
       "    .dataframe tbody tr th {\n",
       "        vertical-align: top;\n",
       "    }\n",
       "\n",
       "    .dataframe thead th {\n",
       "        text-align: right;\n",
       "    }\n",
       "</style>\n",
       "<table border=\"1\" class=\"dataframe\">\n",
       "  <thead>\n",
       "    <tr style=\"text-align: right;\">\n",
       "      <th></th>\n",
       "      <th>Name</th>\n",
       "      <th>PClass</th>\n",
       "      <th>Age</th>\n",
       "      <th>Sex</th>\n",
       "      <th>Survived</th>\n",
       "      <th>SexCode</th>\n",
       "    </tr>\n",
       "  </thead>\n",
       "  <tbody>\n",
       "    <tr>\n",
       "      <th>1</th>\n",
       "      <td>Allen, Miss Elisabeth Walton</td>\n",
       "      <td>1st</td>\n",
       "      <td>29.00</td>\n",
       "      <td>female</td>\n",
       "      <td>1</td>\n",
       "      <td>1</td>\n",
       "    </tr>\n",
       "    <tr>\n",
       "      <th>2</th>\n",
       "      <td>Allison, Miss Helen Loraine</td>\n",
       "      <td>1st</td>\n",
       "      <td>2.00</td>\n",
       "      <td>female</td>\n",
       "      <td>0</td>\n",
       "      <td>1</td>\n",
       "    </tr>\n",
       "    <tr>\n",
       "      <th>3</th>\n",
       "      <td>Allison, Mr Hudson Joshua Creighton</td>\n",
       "      <td>1st</td>\n",
       "      <td>30.00</td>\n",
       "      <td>male</td>\n",
       "      <td>0</td>\n",
       "      <td>0</td>\n",
       "    </tr>\n",
       "    <tr>\n",
       "      <th>4</th>\n",
       "      <td>Allison, Mrs Hudson JC (Bessie Waldo Daniels)</td>\n",
       "      <td>1st</td>\n",
       "      <td>25.00</td>\n",
       "      <td>female</td>\n",
       "      <td>0</td>\n",
       "      <td>1</td>\n",
       "    </tr>\n",
       "    <tr>\n",
       "      <th>5</th>\n",
       "      <td>Allison, Master Hudson Trevor</td>\n",
       "      <td>1st</td>\n",
       "      <td>0.92</td>\n",
       "      <td>male</td>\n",
       "      <td>1</td>\n",
       "      <td>0</td>\n",
       "    </tr>\n",
       "  </tbody>\n",
       "</table>\n",
       "</div>"
      ],
      "text/plain": [
       "                                            Name PClass    Age     Sex  \\\n",
       "1                   Allen, Miss Elisabeth Walton    1st  29.00  female   \n",
       "2                    Allison, Miss Helen Loraine    1st   2.00  female   \n",
       "3            Allison, Mr Hudson Joshua Creighton    1st  30.00    male   \n",
       "4  Allison, Mrs Hudson JC (Bessie Waldo Daniels)    1st  25.00  female   \n",
       "5                  Allison, Master Hudson Trevor    1st   0.92    male   \n",
       "\n",
       "   Survived  SexCode  \n",
       "1         1        1  \n",
       "2         0        1  \n",
       "3         0        0  \n",
       "4         0        1  \n",
       "5         1        0  "
      ]
     },
     "execution_count": 4,
     "metadata": {},
     "output_type": "execute_result"
    }
   ],
   "source": [
    "# USE df_titanic in this practice.\n",
    "df_titanic.head()"
   ]
  },
  {
   "cell_type": "code",
   "execution_count": 5,
   "id": "726abb93",
   "metadata": {
    "tags": []
   },
   "outputs": [
    {
     "data": {
      "image/png": "[encoded data removed]",
      "text/plain": [
       "<Figure size 432x288 with 1 Axes>"
      ]
     },
     "metadata": {
      "needs_background": "light"
     },
     "output_type": "display_data"
    }
   ],
   "source": [
    "### -------- LAB 10-1 -------- ###\n",
    "\n",
    "# Draw a violin plot, following the instructions above\n",
    "sns.violinplot(data=df_titanic, x='PClass', y='Age', hue='Sex', split=True, inner='quart', linewidth=1, cut=1, bw=0.2) \n",
    "\n",
    "# Set the title of the graph\n",
    "plt.title('Titanic Passengers by Class and Sex')\n",
    "\n",
    "plt.show()"
   ]
  },
  {
   "cell_type": "markdown",
   "id": "a3895e1a",
   "metadata": {},
   "source": [
    "## Lab 10-2: Emprical Cumulative Distribution Function\n",
    "\n",
    "### Task\n",
    "We want to draw the weight (=`Mass`) distribution of male and female bluejays.\n",
    "\n",
    "Using the `ecdfplot`, try drawing the ecdf plot just like the answer provided.\n",
    "\n",
    "### Reference\n",
    "* https://seaborn.pydata.org/generated/seaborn.ecdfplot.html"
   ]
  },
  {
   "cell_type": "code",
   "execution_count": 6,
   "id": "776e081b-d25b-4a60-a337-0d0a2109a309",
   "metadata": {
    "tags": []
   },
   "outputs": [
    {
     "data": {
      "text/html": [
       "<div>\n",
       "<style scoped>\n",
       "    .dataframe tbody tr th:only-of-type {\n",
       "        vertical-align: middle;\n",
       "    }\n",
       "\n",
       "    .dataframe tbody tr th {\n",
       "        vertical-align: top;\n",
       "    }\n",
       "\n",
       "    .dataframe thead th {\n",
       "        text-align: right;\n",
       "    }\n",
       "</style>\n",
       "<table border=\"1\" class=\"dataframe\">\n",
       "  <thead>\n",
       "    <tr style=\"text-align: right;\">\n",
       "      <th></th>\n",
       "      <th>BirdID</th>\n",
       "      <th>KnownSex</th>\n",
       "      <th>BillDepth</th>\n",
       "      <th>BillWidth</th>\n",
       "      <th>BillLength</th>\n",
       "      <th>Head</th>\n",
       "      <th>Mass</th>\n",
       "      <th>Skull</th>\n",
       "      <th>Sex</th>\n",
       "    </tr>\n",
       "  </thead>\n",
       "  <tbody>\n",
       "    <tr>\n",
       "      <th>1</th>\n",
       "      <td>0000-00000</td>\n",
       "      <td>M</td>\n",
       "      <td>8.26</td>\n",
       "      <td>9.21</td>\n",
       "      <td>25.92</td>\n",
       "      <td>56.58</td>\n",
       "      <td>73.30</td>\n",
       "      <td>30.66</td>\n",
       "      <td>1</td>\n",
       "    </tr>\n",
       "    <tr>\n",
       "      <th>2</th>\n",
       "      <td>1142-05901</td>\n",
       "      <td>M</td>\n",
       "      <td>8.54</td>\n",
       "      <td>8.76</td>\n",
       "      <td>24.99</td>\n",
       "      <td>56.36</td>\n",
       "      <td>75.10</td>\n",
       "      <td>31.38</td>\n",
       "      <td>1</td>\n",
       "    </tr>\n",
       "    <tr>\n",
       "      <th>3</th>\n",
       "      <td>1142-05905</td>\n",
       "      <td>M</td>\n",
       "      <td>8.39</td>\n",
       "      <td>8.78</td>\n",
       "      <td>26.07</td>\n",
       "      <td>57.32</td>\n",
       "      <td>70.25</td>\n",
       "      <td>31.25</td>\n",
       "      <td>1</td>\n",
       "    </tr>\n",
       "    <tr>\n",
       "      <th>4</th>\n",
       "      <td>1142-05907</td>\n",
       "      <td>F</td>\n",
       "      <td>7.78</td>\n",
       "      <td>9.30</td>\n",
       "      <td>23.48</td>\n",
       "      <td>53.77</td>\n",
       "      <td>65.50</td>\n",
       "      <td>30.29</td>\n",
       "      <td>0</td>\n",
       "    </tr>\n",
       "    <tr>\n",
       "      <th>5</th>\n",
       "      <td>1142-05909</td>\n",
       "      <td>M</td>\n",
       "      <td>8.71</td>\n",
       "      <td>9.84</td>\n",
       "      <td>25.47</td>\n",
       "      <td>57.32</td>\n",
       "      <td>74.90</td>\n",
       "      <td>31.85</td>\n",
       "      <td>1</td>\n",
       "    </tr>\n",
       "  </tbody>\n",
       "</table>\n",
       "</div>"
      ],
      "text/plain": [
       "       BirdID KnownSex  BillDepth  BillWidth  BillLength   Head   Mass  Skull  \\\n",
       "1  0000-00000        M       8.26       9.21       25.92  56.58  73.30  30.66   \n",
       "2  1142-05901        M       8.54       8.76       24.99  56.36  75.10  31.38   \n",
       "3  1142-05905        M       8.39       8.78       26.07  57.32  70.25  31.25   \n",
       "4  1142-05907        F       7.78       9.30       23.48  53.77  65.50  30.29   \n",
       "5  1142-05909        M       8.71       9.84       25.47  57.32  74.90  31.85   \n",
       "\n",
       "   Sex  \n",
       "1    1  \n",
       "2    1  \n",
       "3    1  \n",
       "4    0  \n",
       "5    1  "
      ]
     },
     "execution_count": 6,
     "metadata": {},
     "output_type": "execute_result"
    }
   ],
   "source": [
    "# USE df_bluejay in this practice.\n",
    "df_bluejay.head()"
   ]
  },
  {
   "cell_type": "code",
   "execution_count": 7,
   "id": "b366dec2",
   "metadata": {
    "tags": []
   },
   "outputs": [
    {
     "data": {
      "image/png": "[encoded data removed]",
      "text/plain": [
       "<Figure size 432x288 with 1 Axes>"
      ]
     },
     "metadata": {
      "needs_background": "light"
     },
     "output_type": "display_data"
    }
   ],
   "source": [
    "### -------- LAB 10-2 START -------- ###\n",
    "sns.ecdfplot(data=df_bluejay, x='Mass', hue='KnownSex')\n",
    "\n",
    "plt.title('Weight distribution of Male/Female bluejays')\n",
    "\n",
    "plt.show()"
   ]
  },
  {
   "cell_type": "markdown",
   "id": "4e72aee7-70a8-4de4-b80d-a8f3888c7d70",
   "metadata": {},
   "source": [
    "ANSWER THE FOLLOWING QUESTION AS WELL:\n",
    "\n",
    "By looking at the ECDF plot above:\n",
    "1) How's the mass difference between male/female bluejays? Which sex is heavier? \n",
    "  * YOUR ANSWER: 제 생각에는 proportion을 기준으로 보았을때 이에 해당하는 mass가 male이 female보다 큰 경우가 거의 대부분이므로 female bluejay가 mass가 더 heavier한 것으로 보입니다.\n",
    "\n",
    "2) What's the median mass of male/female bluejays? (answer by just looking at the graph)\n",
    "  * YOUR ANSWER: Male: 약 73  /  Female: 약 69\n",
    "\n",
    "`### -------- LAB 10-2 END -------- ###`"
   ]
  },
  {
   "cell_type": "markdown",
   "id": "6622d694",
   "metadata": {},
   "source": [
    "## Lab 10-3: Visualization of Ratio\n",
    "\n",
    "You're asked to draw two different graphs that displays the proportion of the `PClass` in `df_titanic` dataframe from the Lab 10-1.\n",
    "\n",
    "Using the following functions, generate the pie chart provided as the answer.\n",
    "\n",
    "### Reference\n",
    "* https://pandas.pydata.org/docs/reference/api/pandas.Series.value_counts.html\n",
    "* https://pandas.pydata.org/docs/reference/api/pandas.DataFrame.sort_index.html\n",
    "* https://pandas.pydata.org/docs/reference/api/pandas.Series.plot.pie.html"
   ]
  },
  {
   "cell_type": "code",
   "execution_count": 8,
   "id": "40df1b65-d2c3-44ed-a03d-80729b804996",
   "metadata": {
    "tags": []
   },
   "outputs": [
    {
     "data": {
      "text/html": [
       "<div>\n",
       "<style scoped>\n",
       "    .dataframe tbody tr th:only-of-type {\n",
       "        vertical-align: middle;\n",
       "    }\n",
       "\n",
       "    .dataframe tbody tr th {\n",
       "        vertical-align: top;\n",
       "    }\n",
       "\n",
       "    .dataframe thead th {\n",
       "        text-align: right;\n",
       "    }\n",
       "</style>\n",
       "<table border=\"1\" class=\"dataframe\">\n",
       "  <thead>\n",
       "    <tr style=\"text-align: right;\">\n",
       "      <th></th>\n",
       "      <th>Name</th>\n",
       "      <th>PClass</th>\n",
       "      <th>Age</th>\n",
       "      <th>Sex</th>\n",
       "      <th>Survived</th>\n",
       "      <th>SexCode</th>\n",
       "    </tr>\n",
       "  </thead>\n",
       "  <tbody>\n",
       "    <tr>\n",
       "      <th>1</th>\n",
       "      <td>Allen, Miss Elisabeth Walton</td>\n",
       "      <td>1st</td>\n",
       "      <td>29.00</td>\n",
       "      <td>female</td>\n",
       "      <td>1</td>\n",
       "      <td>1</td>\n",
       "    </tr>\n",
       "    <tr>\n",
       "      <th>2</th>\n",
       "      <td>Allison, Miss Helen Loraine</td>\n",
       "      <td>1st</td>\n",
       "      <td>2.00</td>\n",
       "      <td>female</td>\n",
       "      <td>0</td>\n",
       "      <td>1</td>\n",
       "    </tr>\n",
       "    <tr>\n",
       "      <th>3</th>\n",
       "      <td>Allison, Mr Hudson Joshua Creighton</td>\n",
       "      <td>1st</td>\n",
       "      <td>30.00</td>\n",
       "      <td>male</td>\n",
       "      <td>0</td>\n",
       "      <td>0</td>\n",
       "    </tr>\n",
       "    <tr>\n",
       "      <th>4</th>\n",
       "      <td>Allison, Mrs Hudson JC (Bessie Waldo Daniels)</td>\n",
       "      <td>1st</td>\n",
       "      <td>25.00</td>\n",
       "      <td>female</td>\n",
       "      <td>0</td>\n",
       "      <td>1</td>\n",
       "    </tr>\n",
       "    <tr>\n",
       "      <th>5</th>\n",
       "      <td>Allison, Master Hudson Trevor</td>\n",
       "      <td>1st</td>\n",
       "      <td>0.92</td>\n",
       "      <td>male</td>\n",
       "      <td>1</td>\n",
       "      <td>0</td>\n",
       "    </tr>\n",
       "  </tbody>\n",
       "</table>\n",
       "</div>"
      ],
      "text/plain": [
       "                                            Name PClass    Age     Sex  \\\n",
       "1                   Allen, Miss Elisabeth Walton    1st  29.00  female   \n",
       "2                    Allison, Miss Helen Loraine    1st   2.00  female   \n",
       "3            Allison, Mr Hudson Joshua Creighton    1st  30.00    male   \n",
       "4  Allison, Mrs Hudson JC (Bessie Waldo Daniels)    1st  25.00  female   \n",
       "5                  Allison, Master Hudson Trevor    1st   0.92    male   \n",
       "\n",
       "   Survived  SexCode  \n",
       "1         1        1  \n",
       "2         0        1  \n",
       "3         0        0  \n",
       "4         0        1  \n",
       "5         1        0  "
      ]
     },
     "execution_count": 8,
     "metadata": {},
     "output_type": "execute_result"
    }
   ],
   "source": [
    "# USE df_titanic in this practice.\n",
    "df_titanic.head()"
   ]
  },
  {
   "cell_type": "code",
   "execution_count": 9,
   "id": "d5d6a153",
   "metadata": {
    "tags": []
   },
   "outputs": [
    {
     "data": {
      "image/png": "[encoded data removed]",
      "text/plain": [
       "<Figure size 432x288 with 1 Axes>"
      ]
     },
     "metadata": {},
     "output_type": "display_data"
    }
   ],
   "source": [
    "### -------- LAB 10-3 START -------- ###\n",
    "\n",
    "# Make a new series object `class_counts`, which counts the number of passengers in each class.\n",
    "# Use value_counts() function\n",
    "class_counts = df_titanic['PClass'].value_counts()\n",
    "\n",
    "# Sort the `class_counts` by index.\n",
    "class_counts.sort_index(inplace=True,ascending=False)\n",
    "\n",
    "# Create a pie chart of the class_counts, using Series.plot.pie() function\n",
    "# Note: you can change the starting point of the pie chart by setting `startangle` parameter\n",
    "class_counts.plot.pie(startangle=90)\n",
    "\n",
    "# Add a title to the plot\n",
    "class_counts.plot(title='Titanic Passenger Class Distribution')\n",
    "\n",
    "# Show the plot\n",
    "class_counts.plot();"
   ]
  },
  {
   "cell_type": "code",
   "execution_count": 10,
   "id": "7a63711d-b78e-4309-8a1a-f0e03f4fc8ed",
   "metadata": {
    "tags": []
   },
   "outputs": [
    {
     "data": {
      "image/png": "[encoded data removed]",
      "text/plain": [
       "<Figure size 432x288 with 1 Axes>"
      ]
     },
     "metadata": {},
     "output_type": "display_data"
    }
   ],
   "source": [
    "# Now, redraw the pie chart, in this case, in the order of number of passengers.\n",
    "class_counts.sort_values(inplace=True)\n",
    "class_counts.plot.pie(startangle=90)\n",
    "\n",
    "# Add a title to the plot\n",
    "class_counts.plot(title='Titanic Passenger Class Distribution, order by number of passengers')\n",
    "\n",
    "# Show the plot\n",
    "class_counts.plot();\n",
    "\n",
    "### -------- LAB 10-3 END -------- ###"
   ]
  },
  {
   "cell_type": "markdown",
   "id": "e6560e22",
   "metadata": {},
   "source": [
    "## Lab 10-4: Scatter plot bluejays grouped by sex\n",
    "\n",
    "Draw a scatter plot that displays the relationship between the mass and skull length of Bluejay.\n",
    "\n",
    "* Have the x-axis and y-axis with units, like `Mass (g)` andd `Skull (mm)`.\n",
    "* Show the male/female bluejays in different colors (use `hue` parameter)\n",
    "* Set the plot title appropriately\n",
    "\n",
    "### Reference\n",
    "* https://seaborn.pydata.org/generated/seaborn.scatterplot.html"
   ]
  },
  {
   "cell_type": "code",
   "execution_count": 11,
   "id": "b74ba652-bc17-420f-9a4a-08f70da2a16c",
   "metadata": {
    "tags": []
   },
   "outputs": [
    {
     "data": {
      "text/html": [
       "<div>\n",
       "<style scoped>\n",
       "    .dataframe tbody tr th:only-of-type {\n",
       "        vertical-align: middle;\n",
       "    }\n",
       "\n",
       "    .dataframe tbody tr th {\n",
       "        vertical-align: top;\n",
       "    }\n",
       "\n",
       "    .dataframe thead th {\n",
       "        text-align: right;\n",
       "    }\n",
       "</style>\n",
       "<table border=\"1\" class=\"dataframe\">\n",
       "  <thead>\n",
       "    <tr style=\"text-align: right;\">\n",
       "      <th></th>\n",
       "      <th>BirdID</th>\n",
       "      <th>KnownSex</th>\n",
       "      <th>BillDepth</th>\n",
       "      <th>BillWidth</th>\n",
       "      <th>BillLength</th>\n",
       "      <th>Head</th>\n",
       "      <th>Mass</th>\n",
       "      <th>Skull</th>\n",
       "      <th>Sex</th>\n",
       "    </tr>\n",
       "  </thead>\n",
       "  <tbody>\n",
       "    <tr>\n",
       "      <th>1</th>\n",
       "      <td>0000-00000</td>\n",
       "      <td>M</td>\n",
       "      <td>8.26</td>\n",
       "      <td>9.21</td>\n",
       "      <td>25.92</td>\n",
       "      <td>56.58</td>\n",
       "      <td>73.30</td>\n",
       "      <td>30.66</td>\n",
       "      <td>1</td>\n",
       "    </tr>\n",
       "    <tr>\n",
       "      <th>2</th>\n",
       "      <td>1142-05901</td>\n",
       "      <td>M</td>\n",
       "      <td>8.54</td>\n",
       "      <td>8.76</td>\n",
       "      <td>24.99</td>\n",
       "      <td>56.36</td>\n",
       "      <td>75.10</td>\n",
       "      <td>31.38</td>\n",
       "      <td>1</td>\n",
       "    </tr>\n",
       "    <tr>\n",
       "      <th>3</th>\n",
       "      <td>1142-05905</td>\n",
       "      <td>M</td>\n",
       "      <td>8.39</td>\n",
       "      <td>8.78</td>\n",
       "      <td>26.07</td>\n",
       "      <td>57.32</td>\n",
       "      <td>70.25</td>\n",
       "      <td>31.25</td>\n",
       "      <td>1</td>\n",
       "    </tr>\n",
       "    <tr>\n",
       "      <th>4</th>\n",
       "      <td>1142-05907</td>\n",
       "      <td>F</td>\n",
       "      <td>7.78</td>\n",
       "      <td>9.30</td>\n",
       "      <td>23.48</td>\n",
       "      <td>53.77</td>\n",
       "      <td>65.50</td>\n",
       "      <td>30.29</td>\n",
       "      <td>0</td>\n",
       "    </tr>\n",
       "    <tr>\n",
       "      <th>5</th>\n",
       "      <td>1142-05909</td>\n",
       "      <td>M</td>\n",
       "      <td>8.71</td>\n",
       "      <td>9.84</td>\n",
       "      <td>25.47</td>\n",
       "      <td>57.32</td>\n",
       "      <td>74.90</td>\n",
       "      <td>31.85</td>\n",
       "      <td>1</td>\n",
       "    </tr>\n",
       "  </tbody>\n",
       "</table>\n",
       "</div>"
      ],
      "text/plain": [
       "       BirdID KnownSex  BillDepth  BillWidth  BillLength   Head   Mass  Skull  \\\n",
       "1  0000-00000        M       8.26       9.21       25.92  56.58  73.30  30.66   \n",
       "2  1142-05901        M       8.54       8.76       24.99  56.36  75.10  31.38   \n",
       "3  1142-05905        M       8.39       8.78       26.07  57.32  70.25  31.25   \n",
       "4  1142-05907        F       7.78       9.30       23.48  53.77  65.50  30.29   \n",
       "5  1142-05909        M       8.71       9.84       25.47  57.32  74.90  31.85   \n",
       "\n",
       "   Sex  \n",
       "1    1  \n",
       "2    1  \n",
       "3    1  \n",
       "4    0  \n",
       "5    1  "
      ]
     },
     "execution_count": 11,
     "metadata": {},
     "output_type": "execute_result"
    }
   ],
   "source": [
    "# USE df_bluejay in this practice.\n",
    "df_bluejay.head()"
   ]
  },
  {
   "cell_type": "code",
   "execution_count": 12,
   "id": "f60eb89d",
   "metadata": {
    "tags": []
   },
   "outputs": [
    {
     "data": {
      "image/png": "[encoded data removed]",
      "text/plain": [
       "<Figure size 432x288 with 1 Axes>"
      ]
     },
     "metadata": {
      "needs_background": "light"
     },
     "output_type": "display_data"
    }
   ],
   "source": [
    "### -------- LAB 10-4 START -------- ###\n",
    "# Create a scatter plot using seaborn\n",
    "ax = sns.scatterplot(data=df_bluejay, x='Mass', y='Skull', hue='KnownSex')\n",
    "\n",
    "# Set the x and y axis labels\n",
    "ax.set(xlabel='Mass (g)', ylabel='Skull (mm)', title='Relationship between the mass and skull length of Bluejay')\n",
    "\n",
    "plt.show()\n",
    "### -------- LAB 10-4 END ---------- ###"
   ]
  },
  {
   "cell_type": "code",
   "execution_count": null,
   "id": "a3ba72f4-c3e6-46cf-a463-b7273e405670",
   "metadata": {},
   "outputs": [],
   "source": []
  }
 ],
 "metadata": {
  "kernelspec": {
   "display_name": "Python 3 (ipykernel)",
   "language": "python",
   "name": "python3"
  },
  "language_info": {
   "codemirror_mode": {
    "name": "ipython",
    "version": 3
   },
   "file_extension": ".py",
   "mimetype": "text/x-python",
   "name": "python",
   "nbconvert_exporter": "python",
   "pygments_lexer": "ipython3",
   "version": "3.9.12"
  }
 },
 "nbformat": 4,
 "nbformat_minor": 5
}
