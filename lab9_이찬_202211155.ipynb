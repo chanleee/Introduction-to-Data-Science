{
 "cells": [
  {
   "cell_type": "code",
   "execution_count": 1,
   "id": "1fe0c807",
   "metadata": {
    "tags": []
   },
   "outputs": [
    {
     "name": "stdout",
     "output_type": "stream",
     "text": [
      "Requirement already satisfied: pandas in /Users/ichan/opt/anaconda3/lib/python3.9/site-packages (1.4.2)\n",
      "Requirement already satisfied: python-dateutil>=2.8.1 in /Users/ichan/opt/anaconda3/lib/python3.9/site-packages (from pandas) (2.8.2)\n",
      "Requirement already satisfied: pytz>=2020.1 in /Users/ichan/opt/anaconda3/lib/python3.9/site-packages (from pandas) (2021.3)\n",
      "Requirement already satisfied: numpy>=1.18.5 in /Users/ichan/opt/anaconda3/lib/python3.9/site-packages (from pandas) (1.21.5)\n",
      "Requirement already satisfied: six>=1.5 in /Users/ichan/opt/anaconda3/lib/python3.9/site-packages (from python-dateutil>=2.8.1->pandas) (1.16.0)\n",
      "Requirement already satisfied: seaborn in /Users/ichan/opt/anaconda3/lib/python3.9/site-packages (0.11.2)\n",
      "Requirement already satisfied: scipy>=1.0 in /Users/ichan/opt/anaconda3/lib/python3.9/site-packages (from seaborn) (1.7.3)\n",
      "Requirement already satisfied: matplotlib>=2.2 in /Users/ichan/opt/anaconda3/lib/python3.9/site-packages (from seaborn) (3.5.1)\n",
      "Requirement already satisfied: pandas>=0.23 in /Users/ichan/opt/anaconda3/lib/python3.9/site-packages (from seaborn) (1.4.2)\n",
      "Requirement already satisfied: numpy>=1.15 in /Users/ichan/opt/anaconda3/lib/python3.9/site-packages (from seaborn) (1.21.5)\n",
      "Requirement already satisfied: packaging>=20.0 in /Users/ichan/opt/anaconda3/lib/python3.9/site-packages (from matplotlib>=2.2->seaborn) (21.3)\n",
      "Requirement already satisfied: cycler>=0.10 in /Users/ichan/opt/anaconda3/lib/python3.9/site-packages (from matplotlib>=2.2->seaborn) (0.11.0)\n",
      "Requirement already satisfied: python-dateutil>=2.7 in /Users/ichan/opt/anaconda3/lib/python3.9/site-packages (from matplotlib>=2.2->seaborn) (2.8.2)\n",
      "Requirement already satisfied: fonttools>=4.22.0 in /Users/ichan/opt/anaconda3/lib/python3.9/site-packages (from matplotlib>=2.2->seaborn) (4.25.0)\n",
      "Requirement already satisfied: kiwisolver>=1.0.1 in /Users/ichan/opt/anaconda3/lib/python3.9/site-packages (from matplotlib>=2.2->seaborn) (1.3.2)\n",
      "Requirement already satisfied: pillow>=6.2.0 in /Users/ichan/opt/anaconda3/lib/python3.9/site-packages (from matplotlib>=2.2->seaborn) (9.0.1)\n",
      "Requirement already satisfied: pyparsing>=2.2.1 in /Users/ichan/opt/anaconda3/lib/python3.9/site-packages (from matplotlib>=2.2->seaborn) (3.0.4)\n",
      "Requirement already satisfied: pytz>=2020.1 in /Users/ichan/opt/anaconda3/lib/python3.9/site-packages (from pandas>=0.23->seaborn) (2021.3)\n",
      "Requirement already satisfied: six>=1.5 in /Users/ichan/opt/anaconda3/lib/python3.9/site-packages (from python-dateutil>=2.7->matplotlib>=2.2->seaborn) (1.16.0)\n"
     ]
    }
   ],
   "source": [
    "# Install required module (if not exists)\n",
    "import sys\n",
    "!{sys.executable} -m pip install pandas\n",
    "!{sys.executable} -m pip install seaborn"
   ]
  },
  {
   "cell_type": "code",
   "execution_count": 2,
   "id": "e877a601",
   "metadata": {
    "tags": []
   },
   "outputs": [],
   "source": [
    "# Import required libraries in this lab\n",
    "import pandas as pd\n",
    "import numpy as np\n",
    "import matplotlib.pyplot as plt\n",
    "import seaborn as sns"
   ]
  },
  {
   "cell_type": "markdown",
   "id": "b0c10720",
   "metadata": {},
   "source": [
    "# **Datascience Lab 9**"
   ]
  },
  {
   "cell_type": "markdown",
   "id": "d5b4d981",
   "metadata": {},
   "source": [
    "## Lab 9-1: Data inspection (1 point)\n",
    "\n",
    "For this assignment, you will be working with a dataset called `Titanic.csv`. This dataset contains information about the passengers on the Titanic, including their age, gender, and passenger class.\n",
    "\n",
    "\n",
    "### Reference\n",
    "* https://pandas.pydata.org/docs/reference/api/pandas.unique.html\n",
    "* https://pandas.pydata.org/docs/reference/api/pandas.describe.html"
   ]
  },
  {
   "cell_type": "code",
   "execution_count": 3,
   "id": "726abb93",
   "metadata": {
    "tags": []
   },
   "outputs": [],
   "source": [
    "### -------- LAB 9-1 START -------- ###\n",
    "# 1. Load the dataset into a Pandas DataFrame using the read_csv() function.\n",
    "\n",
    "df = pd.read_csv('Titanic.csv')"
   ]
  },
  {
   "cell_type": "code",
   "execution_count": 4,
   "id": "69e8f0c7",
   "metadata": {
    "tags": []
   },
   "outputs": [
    {
     "data": {
      "text/html": [
       "<div>\n",
       "<style scoped>\n",
       "    .dataframe tbody tr th:only-of-type {\n",
       "        vertical-align: middle;\n",
       "    }\n",
       "\n",
       "    .dataframe tbody tr th {\n",
       "        vertical-align: top;\n",
       "    }\n",
       "\n",
       "    .dataframe thead th {\n",
       "        text-align: right;\n",
       "    }\n",
       "</style>\n",
       "<table border=\"1\" class=\"dataframe\">\n",
       "  <thead>\n",
       "    <tr style=\"text-align: right;\">\n",
       "      <th></th>\n",
       "      <th>Unnamed: 0</th>\n",
       "      <th>Name</th>\n",
       "      <th>PClass</th>\n",
       "      <th>Age</th>\n",
       "      <th>Sex</th>\n",
       "      <th>Survived</th>\n",
       "      <th>SexCode</th>\n",
       "    </tr>\n",
       "  </thead>\n",
       "  <tbody>\n",
       "    <tr>\n",
       "      <th>0</th>\n",
       "      <td>1</td>\n",
       "      <td>Allen, Miss Elisabeth Walton</td>\n",
       "      <td>1st</td>\n",
       "      <td>29.00</td>\n",
       "      <td>female</td>\n",
       "      <td>1</td>\n",
       "      <td>1</td>\n",
       "    </tr>\n",
       "    <tr>\n",
       "      <th>1</th>\n",
       "      <td>2</td>\n",
       "      <td>Allison, Miss Helen Loraine</td>\n",
       "      <td>1st</td>\n",
       "      <td>2.00</td>\n",
       "      <td>female</td>\n",
       "      <td>0</td>\n",
       "      <td>1</td>\n",
       "    </tr>\n",
       "    <tr>\n",
       "      <th>2</th>\n",
       "      <td>3</td>\n",
       "      <td>Allison, Mr Hudson Joshua Creighton</td>\n",
       "      <td>1st</td>\n",
       "      <td>30.00</td>\n",
       "      <td>male</td>\n",
       "      <td>0</td>\n",
       "      <td>0</td>\n",
       "    </tr>\n",
       "    <tr>\n",
       "      <th>3</th>\n",
       "      <td>4</td>\n",
       "      <td>Allison, Mrs Hudson JC (Bessie Waldo Daniels)</td>\n",
       "      <td>1st</td>\n",
       "      <td>25.00</td>\n",
       "      <td>female</td>\n",
       "      <td>0</td>\n",
       "      <td>1</td>\n",
       "    </tr>\n",
       "    <tr>\n",
       "      <th>4</th>\n",
       "      <td>5</td>\n",
       "      <td>Allison, Master Hudson Trevor</td>\n",
       "      <td>1st</td>\n",
       "      <td>0.92</td>\n",
       "      <td>male</td>\n",
       "      <td>1</td>\n",
       "      <td>0</td>\n",
       "    </tr>\n",
       "  </tbody>\n",
       "</table>\n",
       "</div>"
      ],
      "text/plain": [
       "   Unnamed: 0                                           Name PClass    Age  \\\n",
       "0           1                   Allen, Miss Elisabeth Walton    1st  29.00   \n",
       "1           2                    Allison, Miss Helen Loraine    1st   2.00   \n",
       "2           3            Allison, Mr Hudson Joshua Creighton    1st  30.00   \n",
       "3           4  Allison, Mrs Hudson JC (Bessie Waldo Daniels)    1st  25.00   \n",
       "4           5                  Allison, Master Hudson Trevor    1st   0.92   \n",
       "\n",
       "      Sex  Survived  SexCode  \n",
       "0  female         1        1  \n",
       "1  female         0        1  \n",
       "2    male         0        0  \n",
       "3  female         0        1  \n",
       "4    male         1        0  "
      ]
     },
     "execution_count": 4,
     "metadata": {},
     "output_type": "execute_result"
    }
   ],
   "source": [
    "# Inspect the data with 'head()', 'tail()', 'describe()' etc.\n",
    "\n",
    "df.head()"
   ]
  },
  {
   "cell_type": "code",
   "execution_count": 5,
   "id": "786b3b72-9881-4f1f-9350-5d2db55eb221",
   "metadata": {
    "tags": []
   },
   "outputs": [
    {
     "data": {
      "text/html": [
       "<div>\n",
       "<style scoped>\n",
       "    .dataframe tbody tr th:only-of-type {\n",
       "        vertical-align: middle;\n",
       "    }\n",
       "\n",
       "    .dataframe tbody tr th {\n",
       "        vertical-align: top;\n",
       "    }\n",
       "\n",
       "    .dataframe thead th {\n",
       "        text-align: right;\n",
       "    }\n",
       "</style>\n",
       "<table border=\"1\" class=\"dataframe\">\n",
       "  <thead>\n",
       "    <tr style=\"text-align: right;\">\n",
       "      <th></th>\n",
       "      <th>Unnamed: 0</th>\n",
       "      <th>Age</th>\n",
       "      <th>Survived</th>\n",
       "      <th>SexCode</th>\n",
       "    </tr>\n",
       "  </thead>\n",
       "  <tbody>\n",
       "    <tr>\n",
       "      <th>count</th>\n",
       "      <td>1313.000000</td>\n",
       "      <td>756.000000</td>\n",
       "      <td>1313.000000</td>\n",
       "      <td>1313.000000</td>\n",
       "    </tr>\n",
       "    <tr>\n",
       "      <th>mean</th>\n",
       "      <td>657.000000</td>\n",
       "      <td>30.397989</td>\n",
       "      <td>0.342727</td>\n",
       "      <td>0.351866</td>\n",
       "    </tr>\n",
       "    <tr>\n",
       "      <th>std</th>\n",
       "      <td>379.174762</td>\n",
       "      <td>14.259049</td>\n",
       "      <td>0.474802</td>\n",
       "      <td>0.477734</td>\n",
       "    </tr>\n",
       "    <tr>\n",
       "      <th>min</th>\n",
       "      <td>1.000000</td>\n",
       "      <td>0.170000</td>\n",
       "      <td>0.000000</td>\n",
       "      <td>0.000000</td>\n",
       "    </tr>\n",
       "    <tr>\n",
       "      <th>25%</th>\n",
       "      <td>329.000000</td>\n",
       "      <td>21.000000</td>\n",
       "      <td>0.000000</td>\n",
       "      <td>0.000000</td>\n",
       "    </tr>\n",
       "    <tr>\n",
       "      <th>50%</th>\n",
       "      <td>657.000000</td>\n",
       "      <td>28.000000</td>\n",
       "      <td>0.000000</td>\n",
       "      <td>0.000000</td>\n",
       "    </tr>\n",
       "    <tr>\n",
       "      <th>75%</th>\n",
       "      <td>985.000000</td>\n",
       "      <td>39.000000</td>\n",
       "      <td>1.000000</td>\n",
       "      <td>1.000000</td>\n",
       "    </tr>\n",
       "    <tr>\n",
       "      <th>max</th>\n",
       "      <td>1313.000000</td>\n",
       "      <td>71.000000</td>\n",
       "      <td>1.000000</td>\n",
       "      <td>1.000000</td>\n",
       "    </tr>\n",
       "  </tbody>\n",
       "</table>\n",
       "</div>"
      ],
      "text/plain": [
       "        Unnamed: 0         Age     Survived      SexCode\n",
       "count  1313.000000  756.000000  1313.000000  1313.000000\n",
       "mean    657.000000   30.397989     0.342727     0.351866\n",
       "std     379.174762   14.259049     0.474802     0.477734\n",
       "min       1.000000    0.170000     0.000000     0.000000\n",
       "25%     329.000000   21.000000     0.000000     0.000000\n",
       "50%     657.000000   28.000000     0.000000     0.000000\n",
       "75%     985.000000   39.000000     1.000000     1.000000\n",
       "max    1313.000000   71.000000     1.000000     1.000000"
      ]
     },
     "execution_count": 5,
     "metadata": {},
     "output_type": "execute_result"
    }
   ],
   "source": [
    "df.describe()"
   ]
  },
  {
   "cell_type": "code",
   "execution_count": 6,
   "id": "4a8a7129",
   "metadata": {
    "tags": []
   },
   "outputs": [
    {
     "name": "stdout",
     "output_type": "stream",
     "text": [
      "['female' 'male']\n",
      "['1st' '2nd' '*' '3rd']\n"
     ]
    }
   ],
   "source": [
    "# Print the unique values of the 'Sex' and 'PClass' columns using the unique() function\n",
    "# You'll need to inspect wheather there's any abnormal data.\n",
    "# For example, you'll find a row with PClass=\"*\", which is not one of 1st, 2nd, and 3rd.\n",
    "\n",
    "print(df['Sex'].unique())\n",
    "print(df['PClass'].unique())"
   ]
  },
  {
   "cell_type": "code",
   "execution_count": 7,
   "id": "494bf8cc-ff39-4f64-a1dc-741efbabcb9c",
   "metadata": {
    "tags": []
   },
   "outputs": [],
   "source": [
    "# Now Filter out the rows where the 'PClass' column has a value of '*'.\n",
    "# WRITE YOUR CODE HERE\n",
    "\n",
    "df.drop(df[df['PClass']=='*'].index, inplace=True)"
   ]
  },
  {
   "cell_type": "markdown",
   "id": "a3895e1a",
   "metadata": {},
   "source": [
    "## Lab 9-2: Data aggrigation by pivot table\n",
    "\n",
    "### Task\n",
    "Your task is to create a pivot table with `Sex` as the columns and `PClass` as the rows, using the count of `Survived` column as the value being aggregated.\n",
    "\n",
    "To complete this task, you will need to perform the following steps:\n",
    "\n",
    "1. Use the filtered Titanic dataframe from the previous Lab 9-1.\n",
    "1. Use the pivot_table() function to create a pivot table with the following parameters:\n",
    " * index: Set to 'PClass' to use the passenger class as the rows of the pivot table.\n",
    " * columns: Set to 'Sex' to use the sex of the passengers as the columns of the pivot table.\n",
    " * values: Set to 'Survived' to use the 'Survived' column as the values being aggregated in the pivot table.\n",
    " * aggfunc: Set to 'count' to count the number of survivors by sex and passenger class.\n",
    "1. Store the pivot table in a new variable called pivot.\n",
    "1. Print the pivot table to the console\n",
    "\n",
    "### Reference\n",
    "* https://pandas.pydata.org/docs/reference/api/pandas.DataFrame.pivot_table.html"
   ]
  },
  {
   "cell_type": "code",
   "execution_count": 8,
   "id": "b366dec2",
   "metadata": {
    "tags": []
   },
   "outputs": [
    {
     "data": {
      "text/html": [
       "<div>\n",
       "<style scoped>\n",
       "    .dataframe tbody tr th:only-of-type {\n",
       "        vertical-align: middle;\n",
       "    }\n",
       "\n",
       "    .dataframe tbody tr th {\n",
       "        vertical-align: top;\n",
       "    }\n",
       "\n",
       "    .dataframe thead th {\n",
       "        text-align: right;\n",
       "    }\n",
       "</style>\n",
       "<table border=\"1\" class=\"dataframe\">\n",
       "  <thead>\n",
       "    <tr style=\"text-align: right;\">\n",
       "      <th>Sex</th>\n",
       "      <th>female</th>\n",
       "      <th>male</th>\n",
       "    </tr>\n",
       "    <tr>\n",
       "      <th>PClass</th>\n",
       "      <th></th>\n",
       "      <th></th>\n",
       "    </tr>\n",
       "  </thead>\n",
       "  <tbody>\n",
       "    <tr>\n",
       "      <th>1st</th>\n",
       "      <td>143</td>\n",
       "      <td>179</td>\n",
       "    </tr>\n",
       "    <tr>\n",
       "      <th>2nd</th>\n",
       "      <td>107</td>\n",
       "      <td>172</td>\n",
       "    </tr>\n",
       "    <tr>\n",
       "      <th>3rd</th>\n",
       "      <td>212</td>\n",
       "      <td>499</td>\n",
       "    </tr>\n",
       "  </tbody>\n",
       "</table>\n",
       "</div>"
      ],
      "text/plain": [
       "Sex     female  male\n",
       "PClass              \n",
       "1st        143   179\n",
       "2nd        107   172\n",
       "3rd        212   499"
      ]
     },
     "execution_count": 8,
     "metadata": {},
     "output_type": "execute_result"
    }
   ],
   "source": [
    "### -------- LAB 9-2 START -------- ###\n",
    "\n",
    "pivot = pd.pivot_table(df, index = 'PClass', columns = 'Sex', values = 'Survived', aggfunc = 'count')\n",
    "\n",
    "pivot\n",
    "### -------- LAB 9-2 END ---------- ###"
   ]
  },
  {
   "cell_type": "markdown",
   "id": "6622d694",
   "metadata": {},
   "source": [
    "## Lab 9-3: Wide format to long format conversion\n",
    "\n",
    "Now you have the pivot table in a new variable called `pivot`.\n",
    "To draw a groupd bar graph, you'll need to convert the wide format table to a long format table.\n",
    "\n",
    "To complete this task, you will need to perform the following steps:\n",
    "\n",
    "1. Use the `reset_index()` function to move the 'PClass' column from the index to a regular column.\n",
    "1. Use the `melt()` function to reshape the pivot table to long format, with `PClass` as the `id_var`, `Sex` as the `var_name`, and `Count` as the `value_name` for the counts of survivors.\n",
    "1. Store the melted DataFrame in a new variable called `pivot_melted`.\n",
    "\n",
    "### Reference\n",
    "* https://pandas.pydata.org/docs/reference/api/pandas.DataFrame.reset_index.html\n",
    "* https://pandas.pydata.org/docs/reference/api/pandas.DataFrame.melt.html"
   ]
  },
  {
   "cell_type": "code",
   "execution_count": 9,
   "id": "d5d6a153",
   "metadata": {
    "tags": []
   },
   "outputs": [
    {
     "data": {
      "text/html": [
       "<div>\n",
       "<style scoped>\n",
       "    .dataframe tbody tr th:only-of-type {\n",
       "        vertical-align: middle;\n",
       "    }\n",
       "\n",
       "    .dataframe tbody tr th {\n",
       "        vertical-align: top;\n",
       "    }\n",
       "\n",
       "    .dataframe thead th {\n",
       "        text-align: right;\n",
       "    }\n",
       "</style>\n",
       "<table border=\"1\" class=\"dataframe\">\n",
       "  <thead>\n",
       "    <tr style=\"text-align: right;\">\n",
       "      <th></th>\n",
       "      <th>PClass</th>\n",
       "      <th>Sex</th>\n",
       "      <th>Count</th>\n",
       "    </tr>\n",
       "  </thead>\n",
       "  <tbody>\n",
       "    <tr>\n",
       "      <th>0</th>\n",
       "      <td>1st</td>\n",
       "      <td>female</td>\n",
       "      <td>143</td>\n",
       "    </tr>\n",
       "    <tr>\n",
       "      <th>1</th>\n",
       "      <td>2nd</td>\n",
       "      <td>female</td>\n",
       "      <td>107</td>\n",
       "    </tr>\n",
       "    <tr>\n",
       "      <th>2</th>\n",
       "      <td>3rd</td>\n",
       "      <td>female</td>\n",
       "      <td>212</td>\n",
       "    </tr>\n",
       "    <tr>\n",
       "      <th>0</th>\n",
       "      <td>1st</td>\n",
       "      <td>male</td>\n",
       "      <td>179</td>\n",
       "    </tr>\n",
       "    <tr>\n",
       "      <th>1</th>\n",
       "      <td>2nd</td>\n",
       "      <td>male</td>\n",
       "      <td>172</td>\n",
       "    </tr>\n",
       "    <tr>\n",
       "      <th>2</th>\n",
       "      <td>3rd</td>\n",
       "      <td>male</td>\n",
       "      <td>499</td>\n",
       "    </tr>\n",
       "  </tbody>\n",
       "</table>\n",
       "</div>"
      ],
      "text/plain": [
       "  PClass     Sex  Count\n",
       "0    1st  female    143\n",
       "1    2nd  female    107\n",
       "2    3rd  female    212\n",
       "0    1st    male    179\n",
       "1    2nd    male    172\n",
       "2    3rd    male    499"
      ]
     },
     "execution_count": 9,
     "metadata": {},
     "output_type": "execute_result"
    }
   ],
   "source": [
    "### -------- LAB 9-3 START -------- ###\n",
    "\n",
    "pivot.reset_index(inplace=True, col_fill='PClass')\n",
    "\n",
    "pivot_melted = pivot.melt(id_vars='PClass', var_name='Sex', value_name='Count', ignore_index=False)\n",
    "\n",
    "pivot_melted\n",
    "### -------- LAB 9-3 END ---------- ###"
   ]
  },
  {
   "cell_type": "markdown",
   "id": "e6560e22",
   "metadata": {},
   "source": [
    "## Lab 9-4: Plotting groupped bar graph\n",
    "Now we'll draw a groupd bar graph from `pivot_melted`. that you created in the previous step.\n",
    "\n",
    "To draw the grouped bar graph, we'll use the `Seaborn` library `catplot`. \n",
    "\n",
    "1. Create a grouped bar graph using the catplot() function from Seaborn. Pass `pivot_melted` as the data source, with `x='PClass'` to set the passenger class as the x-axis, `y='Count'` to set the number of survivors as the y-axis, `hue='Sex'` to group the bars by `Sex`, `kind='bar'` to indicate that we want a bar graph. Adjust `height` and `aspect` values to make the plot beautiful.\n",
    "1. Set the plot title and axis labels using the `title()`, `xlabel()`, and `ylabel()` functions from Matplotlib.\n",
    "1. Display the plot using the show() function from Matplotlib.\n",
    "\n",
    "\n",
    "### Reference\n",
    "* https://seaborn.pydata.org/generated/seaborn.catplot.html\n",
    "* https://matplotlib.org/stable/api/_as_gen/matplotlib.pyplot.title.html\n",
    "* https://matplotlib.org/stable/api/_as_gen/matplotlib.pyplot.xlabel.html\n",
    "* https://matplotlib.org/stable/api/_as_gen/matplotlib.pyplot.ylabel.html"
   ]
  },
  {
   "cell_type": "code",
   "execution_count": 10,
   "id": "f60eb89d",
   "metadata": {
    "tags": []
   },
   "outputs": [
    {
     "data": {
      "image/png": "[encoded data removed]",
      "text/plain": [
       "<Figure size 610.5x360 with 1 Axes>"
      ]
     },
     "metadata": {
      "needs_background": "light"
     },
     "output_type": "display_data"
    }
   ],
   "source": [
    "### -------- LAB 9-4 START -------- ###\n",
    "\n",
    "# Create a grouped bar graph using the sns.catplot() function\n",
    "sns.catplot(data=pivot_melted, x='PClass', y='Count', hue='Sex', kind='bar', aspect=1.5)\n",
    "\n",
    "# Set the plot title and axis labels\n",
    "plt.title('Number of Survivors by Passenger Class and Sex')\n",
    "plt.xlabel('Passenger Class')\n",
    "plt.ylabel('Number of Survivors')\n",
    "\n",
    "# Display the plot\n",
    "plt.show()\n",
    "\n",
    "### -------- LAB 9-4 END ---------- ###"
   ]
  },
  {
   "cell_type": "code",
   "execution_count": null,
   "id": "a3ba72f4-c3e6-46cf-a463-b7273e405670",
   "metadata": {},
   "outputs": [],
   "source": []
  }
 ],
 "metadata": {
  "kernelspec": {
   "display_name": "Python 3 (ipykernel)",
   "language": "python",
   "name": "python3"
  },
  "language_info": {
   "codemirror_mode": {
    "name": "ipython",
    "version": 3
   },
   "file_extension": ".py",
   "mimetype": "text/x-python",
   "name": "python",
   "nbconvert_exporter": "python",
   "pygments_lexer": "ipython3",
   "version": "3.9.12"
  }
 },
 "nbformat": 4,
 "nbformat_minor": 5
}
